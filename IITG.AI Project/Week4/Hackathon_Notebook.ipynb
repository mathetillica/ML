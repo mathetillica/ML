{
 "cells": [
  {
   "cell_type": "markdown",
   "id": "234fc91b",
   "metadata": {
    "papermill": {
     "duration": 0.006431,
     "end_time": "2023-06-23T17:06:55.633076",
     "exception": false,
     "start_time": "2023-06-23T17:06:55.626645",
     "status": "completed"
    },
    "tags": []
   },
   "source": [
    "# **HACKATHON NOTEBOOK**"
   ]
  },
  {
   "cell_type": "markdown",
   "id": "fe32a18d",
   "metadata": {
    "papermill": {
     "duration": 0.005416,
     "end_time": "2023-06-23T17:06:55.644395",
     "exception": false,
     "start_time": "2023-06-23T17:06:55.638979",
     "status": "completed"
    },
    "tags": []
   },
   "source": [
    "**IMPORTING NECESSARY LIBRARIES**"
   ]
  },
  {
   "cell_type": "code",
   "execution_count": 1,
   "id": "0435bfc2",
   "metadata": {
    "_cell_guid": "b1076dfc-b9ad-4769-8c92-a6c4dae69d19",
    "_uuid": "8f2839f25d086af736a60e9eeb907d3b93b6e0e5",
    "execution": {
     "iopub.execute_input": "2023-06-23T17:06:55.657503Z",
     "iopub.status.busy": "2023-06-23T17:06:55.657149Z",
     "iopub.status.idle": "2023-06-23T17:06:56.914078Z",
     "shell.execute_reply": "2023-06-23T17:06:56.912522Z"
    },
    "papermill": {
     "duration": 1.266413,
     "end_time": "2023-06-23T17:06:56.916424",
     "exception": false,
     "start_time": "2023-06-23T17:06:55.650011",
     "status": "completed"
    },
    "tags": []
   },
   "outputs": [],
   "source": [
    "#importing needed libraries\n",
    "import numpy as np\n",
    "import pandas as pd\n",
    "import statistics\n",
    "from scipy import stats\n",
    "import matplotlib.pyplot as plt"
   ]
  },
  {
   "cell_type": "markdown",
   "id": "de827e04",
   "metadata": {
    "papermill": {
     "duration": 0.006354,
     "end_time": "2023-06-23T17:06:56.928874",
     "exception": false,
     "start_time": "2023-06-23T17:06:56.922520",
     "status": "completed"
    },
    "tags": []
   },
   "source": [
    "**LOADING DATAFRAME**"
   ]
  },
  {
   "cell_type": "code",
   "execution_count": 2,
   "id": "1a42226d",
   "metadata": {
    "execution": {
     "iopub.execute_input": "2023-06-23T17:06:56.942731Z",
     "iopub.status.busy": "2023-06-23T17:06:56.942356Z",
     "iopub.status.idle": "2023-06-23T17:06:57.008444Z",
     "shell.execute_reply": "2023-06-23T17:06:57.007405Z"
    },
    "papermill": {
     "duration": 0.076444,
     "end_time": "2023-06-23T17:06:57.010869",
     "exception": false,
     "start_time": "2023-06-23T17:06:56.934425",
     "status": "completed"
    },
    "tags": []
   },
   "outputs": [
    {
     "data": {
      "text/html": [
       "<div>\n",
       "<style scoped>\n",
       "    .dataframe tbody tr th:only-of-type {\n",
       "        vertical-align: middle;\n",
       "    }\n",
       "\n",
       "    .dataframe tbody tr th {\n",
       "        vertical-align: top;\n",
       "    }\n",
       "\n",
       "    .dataframe thead th {\n",
       "        text-align: right;\n",
       "    }\n",
       "</style>\n",
       "<table border=\"1\" class=\"dataframe\">\n",
       "  <thead>\n",
       "    <tr style=\"text-align: right;\">\n",
       "      <th></th>\n",
       "      <th>A</th>\n",
       "      <th>B</th>\n",
       "      <th>C</th>\n",
       "      <th>D</th>\n",
       "      <th>E</th>\n",
       "      <th>F</th>\n",
       "      <th>G</th>\n",
       "      <th>H</th>\n",
       "      <th>Target</th>\n",
       "    </tr>\n",
       "  </thead>\n",
       "  <tbody>\n",
       "    <tr>\n",
       "      <th>0</th>\n",
       "      <td>F</td>\n",
       "      <td>0.615</td>\n",
       "      <td>0.455</td>\n",
       "      <td>0.135</td>\n",
       "      <td>1.0590</td>\n",
       "      <td>0.4735</td>\n",
       "      <td>0.2630</td>\n",
       "      <td>0.274</td>\n",
       "      <td>9</td>\n",
       "    </tr>\n",
       "    <tr>\n",
       "      <th>1</th>\n",
       "      <td>F</td>\n",
       "      <td>0.515</td>\n",
       "      <td>0.395</td>\n",
       "      <td>0.140</td>\n",
       "      <td>0.6860</td>\n",
       "      <td>0.2810</td>\n",
       "      <td>0.1255</td>\n",
       "      <td>0.220</td>\n",
       "      <td>12</td>\n",
       "    </tr>\n",
       "    <tr>\n",
       "      <th>2</th>\n",
       "      <td>M</td>\n",
       "      <td>0.660</td>\n",
       "      <td>0.530</td>\n",
       "      <td>0.175</td>\n",
       "      <td>1.5830</td>\n",
       "      <td>0.7395</td>\n",
       "      <td>0.3505</td>\n",
       "      <td>0.405</td>\n",
       "      <td>10</td>\n",
       "    </tr>\n",
       "    <tr>\n",
       "      <th>3</th>\n",
       "      <td>M</td>\n",
       "      <td>0.455</td>\n",
       "      <td>0.365</td>\n",
       "      <td>0.095</td>\n",
       "      <td>0.5140</td>\n",
       "      <td>0.2245</td>\n",
       "      <td>0.1010</td>\n",
       "      <td>0.150</td>\n",
       "      <td>15</td>\n",
       "    </tr>\n",
       "    <tr>\n",
       "      <th>4</th>\n",
       "      <td>M</td>\n",
       "      <td>0.495</td>\n",
       "      <td>0.400</td>\n",
       "      <td>0.155</td>\n",
       "      <td>0.8085</td>\n",
       "      <td>0.2345</td>\n",
       "      <td>0.1155</td>\n",
       "      <td>0.350</td>\n",
       "      <td>6</td>\n",
       "    </tr>\n",
       "  </tbody>\n",
       "</table>\n",
       "</div>"
      ],
      "text/plain": [
       "   A      B      C      D       E       F       G      H  Target\n",
       "0  F  0.615  0.455  0.135  1.0590  0.4735  0.2630  0.274       9\n",
       "1  F  0.515  0.395  0.140  0.6860  0.2810  0.1255  0.220      12\n",
       "2  M  0.660  0.530  0.175  1.5830  0.7395  0.3505  0.405      10\n",
       "3  M  0.455  0.365  0.095  0.5140  0.2245  0.1010  0.150      15\n",
       "4  M  0.495  0.400  0.155  0.8085  0.2345  0.1155  0.350       6"
      ]
     },
     "execution_count": 2,
     "metadata": {},
     "output_type": "execute_result"
    }
   ],
   "source": [
    "#Reading training file into df variable using pandas\n",
    "df = pd.read_csv(\"/kaggle/input/practice-hackathon/Train.csv\")\n",
    "df.head()"
   ]
  },
  {
   "cell_type": "markdown",
   "id": "07373f12",
   "metadata": {
    "papermill": {
     "duration": 0.006024,
     "end_time": "2023-06-23T17:06:57.023545",
     "exception": false,
     "start_time": "2023-06-23T17:06:57.017521",
     "status": "completed"
    },
    "tags": []
   },
   "source": [
    "**PRE-PROCESSING DATA**"
   ]
  },
  {
   "cell_type": "code",
   "execution_count": 3,
   "id": "bd3cc91f",
   "metadata": {
    "execution": {
     "iopub.execute_input": "2023-06-23T17:06:57.037834Z",
     "iopub.status.busy": "2023-06-23T17:06:57.036749Z",
     "iopub.status.idle": "2023-06-23T17:06:57.231969Z",
     "shell.execute_reply": "2023-06-23T17:06:57.230750Z"
    },
    "papermill": {
     "duration": 0.204352,
     "end_time": "2023-06-23T17:06:57.233953",
     "exception": false,
     "start_time": "2023-06-23T17:06:57.029601",
     "status": "completed"
    },
    "tags": []
   },
   "outputs": [
    {
     "data": {
      "text/plain": [
       "array([0, 2, 1])"
      ]
     },
     "execution_count": 3,
     "metadata": {},
     "output_type": "execute_result"
    }
   ],
   "source": [
    "#Encoding characters in column A to numbers\n",
    "from sklearn import preprocessing\n",
    "label_encoder = preprocessing.LabelEncoder()\n",
    "df['A']= label_encoder.fit_transform(df['A'])\n",
    "#Printing unique-values in column after encoding\n",
    "df['A'].unique()"
   ]
  },
  {
   "cell_type": "code",
   "execution_count": 4,
   "id": "004a90e2",
   "metadata": {
    "execution": {
     "iopub.execute_input": "2023-06-23T17:06:57.247621Z",
     "iopub.status.busy": "2023-06-23T17:06:57.247286Z",
     "iopub.status.idle": "2023-06-23T17:06:57.260548Z",
     "shell.execute_reply": "2023-06-23T17:06:57.259194Z"
    },
    "papermill": {
     "duration": 0.022969,
     "end_time": "2023-06-23T17:06:57.263056",
     "exception": false,
     "start_time": "2023-06-23T17:06:57.240087",
     "status": "completed"
    },
    "tags": []
   },
   "outputs": [],
   "source": [
    "#Feature-Target Split\n",
    "X = df.drop(['Target'], axis=1)\n",
    "y = df['Target']"
   ]
  },
  {
   "cell_type": "code",
   "execution_count": 5,
   "id": "3b384db3",
   "metadata": {
    "execution": {
     "iopub.execute_input": "2023-06-23T17:06:57.277834Z",
     "iopub.status.busy": "2023-06-23T17:06:57.277447Z",
     "iopub.status.idle": "2023-06-23T17:06:57.408890Z",
     "shell.execute_reply": "2023-06-23T17:06:57.407696Z"
    },
    "papermill": {
     "duration": 0.141659,
     "end_time": "2023-06-23T17:06:57.411512",
     "exception": false,
     "start_time": "2023-06-23T17:06:57.269853",
     "status": "completed"
    },
    "tags": []
   },
   "outputs": [],
   "source": [
    "#Train-Test Split\n",
    "from sklearn.model_selection import train_test_split\n",
    "from sklearn.metrics import mean_squared_error\n",
    "X_train, X_test, y_train, y_test = train_test_split(X, y, test_size = 0.2)"
   ]
  },
  {
   "cell_type": "markdown",
   "id": "66050c5f",
   "metadata": {
    "execution": {
     "iopub.execute_input": "2023-06-23T17:03:40.124367Z",
     "iopub.status.busy": "2023-06-23T17:03:40.123620Z",
     "iopub.status.idle": "2023-06-23T17:03:40.134647Z",
     "shell.execute_reply": "2023-06-23T17:03:40.133155Z",
     "shell.execute_reply.started": "2023-06-23T17:03:40.124308Z"
    },
    "papermill": {
     "duration": 0.005891,
     "end_time": "2023-06-23T17:06:57.423806",
     "exception": false,
     "start_time": "2023-06-23T17:06:57.417915",
     "status": "completed"
    },
    "tags": []
   },
   "source": [
    "**ANALYSIS OF DATA**"
   ]
  },
  {
   "cell_type": "code",
   "execution_count": 6,
   "id": "00661efc",
   "metadata": {
    "execution": {
     "iopub.execute_input": "2023-06-23T17:06:57.437863Z",
     "iopub.status.busy": "2023-06-23T17:06:57.437509Z",
     "iopub.status.idle": "2023-06-23T17:06:57.475236Z",
     "shell.execute_reply": "2023-06-23T17:06:57.473818Z"
    },
    "papermill": {
     "duration": 0.04802,
     "end_time": "2023-06-23T17:06:57.477909",
     "exception": false,
     "start_time": "2023-06-23T17:06:57.429889",
     "status": "completed"
    },
    "tags": []
   },
   "outputs": [
    {
     "data": {
      "text/html": [
       "<div>\n",
       "<style scoped>\n",
       "    .dataframe tbody tr th:only-of-type {\n",
       "        vertical-align: middle;\n",
       "    }\n",
       "\n",
       "    .dataframe tbody tr th {\n",
       "        vertical-align: top;\n",
       "    }\n",
       "\n",
       "    .dataframe thead th {\n",
       "        text-align: right;\n",
       "    }\n",
       "</style>\n",
       "<table border=\"1\" class=\"dataframe\">\n",
       "  <thead>\n",
       "    <tr style=\"text-align: right;\">\n",
       "      <th></th>\n",
       "      <th>A</th>\n",
       "      <th>B</th>\n",
       "      <th>C</th>\n",
       "      <th>D</th>\n",
       "      <th>E</th>\n",
       "      <th>F</th>\n",
       "      <th>G</th>\n",
       "      <th>H</th>\n",
       "      <th>Target</th>\n",
       "    </tr>\n",
       "  </thead>\n",
       "  <tbody>\n",
       "    <tr>\n",
       "      <th>count</th>\n",
       "      <td>3132.000000</td>\n",
       "      <td>3132.000000</td>\n",
       "      <td>3132.000000</td>\n",
       "      <td>3132.000000</td>\n",
       "      <td>3132.000000</td>\n",
       "      <td>3132.000000</td>\n",
       "      <td>3132.000000</td>\n",
       "      <td>3132.000000</td>\n",
       "      <td>3132.000000</td>\n",
       "    </tr>\n",
       "    <tr>\n",
       "      <th>mean</th>\n",
       "      <td>1.050447</td>\n",
       "      <td>0.525750</td>\n",
       "      <td>0.409254</td>\n",
       "      <td>0.140070</td>\n",
       "      <td>0.834224</td>\n",
       "      <td>0.362219</td>\n",
       "      <td>0.181684</td>\n",
       "      <td>0.240351</td>\n",
       "      <td>9.964879</td>\n",
       "    </tr>\n",
       "    <tr>\n",
       "      <th>std</th>\n",
       "      <td>0.825192</td>\n",
       "      <td>0.119131</td>\n",
       "      <td>0.098557</td>\n",
       "      <td>0.042661</td>\n",
       "      <td>0.491449</td>\n",
       "      <td>0.223000</td>\n",
       "      <td>0.109317</td>\n",
       "      <td>0.139567</td>\n",
       "      <td>3.229146</td>\n",
       "    </tr>\n",
       "    <tr>\n",
       "      <th>min</th>\n",
       "      <td>0.000000</td>\n",
       "      <td>0.075000</td>\n",
       "      <td>0.055000</td>\n",
       "      <td>0.000000</td>\n",
       "      <td>0.002000</td>\n",
       "      <td>0.001000</td>\n",
       "      <td>0.000500</td>\n",
       "      <td>0.001500</td>\n",
       "      <td>1.000000</td>\n",
       "    </tr>\n",
       "    <tr>\n",
       "      <th>25%</th>\n",
       "      <td>0.000000</td>\n",
       "      <td>0.450000</td>\n",
       "      <td>0.350000</td>\n",
       "      <td>0.115000</td>\n",
       "      <td>0.444000</td>\n",
       "      <td>0.187000</td>\n",
       "      <td>0.093500</td>\n",
       "      <td>0.130000</td>\n",
       "      <td>8.000000</td>\n",
       "    </tr>\n",
       "    <tr>\n",
       "      <th>50%</th>\n",
       "      <td>1.000000</td>\n",
       "      <td>0.545000</td>\n",
       "      <td>0.425000</td>\n",
       "      <td>0.145000</td>\n",
       "      <td>0.804500</td>\n",
       "      <td>0.339500</td>\n",
       "      <td>0.171750</td>\n",
       "      <td>0.235000</td>\n",
       "      <td>10.000000</td>\n",
       "    </tr>\n",
       "    <tr>\n",
       "      <th>75%</th>\n",
       "      <td>2.000000</td>\n",
       "      <td>0.615000</td>\n",
       "      <td>0.480000</td>\n",
       "      <td>0.165000</td>\n",
       "      <td>1.156750</td>\n",
       "      <td>0.506500</td>\n",
       "      <td>0.255000</td>\n",
       "      <td>0.330000</td>\n",
       "      <td>11.000000</td>\n",
       "    </tr>\n",
       "    <tr>\n",
       "      <th>max</th>\n",
       "      <td>2.000000</td>\n",
       "      <td>0.815000</td>\n",
       "      <td>0.650000</td>\n",
       "      <td>1.130000</td>\n",
       "      <td>2.825500</td>\n",
       "      <td>1.488000</td>\n",
       "      <td>0.760000</td>\n",
       "      <td>1.005000</td>\n",
       "      <td>29.000000</td>\n",
       "    </tr>\n",
       "  </tbody>\n",
       "</table>\n",
       "</div>"
      ],
      "text/plain": [
       "                 A            B            C            D            E  \\\n",
       "count  3132.000000  3132.000000  3132.000000  3132.000000  3132.000000   \n",
       "mean      1.050447     0.525750     0.409254     0.140070     0.834224   \n",
       "std       0.825192     0.119131     0.098557     0.042661     0.491449   \n",
       "min       0.000000     0.075000     0.055000     0.000000     0.002000   \n",
       "25%       0.000000     0.450000     0.350000     0.115000     0.444000   \n",
       "50%       1.000000     0.545000     0.425000     0.145000     0.804500   \n",
       "75%       2.000000     0.615000     0.480000     0.165000     1.156750   \n",
       "max       2.000000     0.815000     0.650000     1.130000     2.825500   \n",
       "\n",
       "                 F            G            H       Target  \n",
       "count  3132.000000  3132.000000  3132.000000  3132.000000  \n",
       "mean      0.362219     0.181684     0.240351     9.964879  \n",
       "std       0.223000     0.109317     0.139567     3.229146  \n",
       "min       0.001000     0.000500     0.001500     1.000000  \n",
       "25%       0.187000     0.093500     0.130000     8.000000  \n",
       "50%       0.339500     0.171750     0.235000    10.000000  \n",
       "75%       0.506500     0.255000     0.330000    11.000000  \n",
       "max       1.488000     0.760000     1.005000    29.000000  "
      ]
     },
     "execution_count": 6,
     "metadata": {},
     "output_type": "execute_result"
    }
   ],
   "source": [
    "#Getting better idea of the data\n",
    "df.describe()"
   ]
  },
  {
   "cell_type": "code",
   "execution_count": 7,
   "id": "56aadd02",
   "metadata": {
    "execution": {
     "iopub.execute_input": "2023-06-23T17:06:57.492762Z",
     "iopub.status.busy": "2023-06-23T17:06:57.492397Z",
     "iopub.status.idle": "2023-06-23T17:06:58.565832Z",
     "shell.execute_reply": "2023-06-23T17:06:58.564970Z"
    },
    "papermill": {
     "duration": 1.083163,
     "end_time": "2023-06-23T17:06:58.567592",
     "exception": false,
     "start_time": "2023-06-23T17:06:57.484429",
     "status": "completed"
    },
    "tags": []
   },
   "outputs": [
    {
     "data": {
      "image/png": "[encoded data removed]",
      "text/plain": [
       "<Figure size 2000x500 with 8 Axes>"
      ]
     },
     "metadata": {},
     "output_type": "display_data"
    }
   ],
   "source": [
    "#plotting target vs feature for different features to get an idea of the data-frame\n",
    "fig, ax = plt.subplots(1, 8, figsize=(20,5))\n",
    "for i,col in enumerate(df.columns[:8]):\n",
    "     df.plot(kind='scatter', x=col, y='Target', ax=ax[i])\n",
    "plt.show()"
   ]
  },
  {
   "cell_type": "markdown",
   "id": "08d61e4b",
   "metadata": {
    "papermill": {
     "duration": 0.007188,
     "end_time": "2023-06-23T17:06:58.582141",
     "exception": false,
     "start_time": "2023-06-23T17:06:58.574953",
     "status": "completed"
    },
    "tags": []
   },
   "source": [
    "**TRAINING DATA ON DIFFERENT MODELS**"
   ]
  },
  {
   "cell_type": "code",
   "execution_count": 8,
   "id": "4f933ac6",
   "metadata": {
    "execution": {
     "iopub.execute_input": "2023-06-23T17:06:58.598572Z",
     "iopub.status.busy": "2023-06-23T17:06:58.598064Z",
     "iopub.status.idle": "2023-06-23T17:06:58.611233Z",
     "shell.execute_reply": "2023-06-23T17:06:58.610290Z"
    },
    "papermill": {
     "duration": 0.023752,
     "end_time": "2023-06-23T17:06:58.613512",
     "exception": false,
     "start_time": "2023-06-23T17:06:58.589760",
     "status": "completed"
    },
    "tags": []
   },
   "outputs": [],
   "source": [
    "#Creating polynomial feature of training set features for Polynomial Regression\n",
    "from sklearn.preprocessing import PolynomialFeatures\n",
    "polynomial_features= PolynomialFeatures(degree=2)\n",
    "X_train_trf = polynomial_features.fit_transform(X_train)\n",
    "X_test_trf = polynomial_features.fit_transform(X_test)"
   ]
  },
  {
   "cell_type": "code",
   "execution_count": 9,
   "id": "11155a50",
   "metadata": {
    "execution": {
     "iopub.execute_input": "2023-06-23T17:06:58.631280Z",
     "iopub.status.busy": "2023-06-23T17:06:58.630302Z",
     "iopub.status.idle": "2023-06-23T17:06:58.790503Z",
     "shell.execute_reply": "2023-06-23T17:06:58.789437Z"
    },
    "papermill": {
     "duration": 0.171992,
     "end_time": "2023-06-23T17:06:58.793400",
     "exception": false,
     "start_time": "2023-06-23T17:06:58.621408",
     "status": "completed"
    },
    "tags": []
   },
   "outputs": [
    {
     "data": {
      "text/plain": [
       "4.870032807860676"
      ]
     },
     "execution_count": 9,
     "metadata": {},
     "output_type": "execute_result"
    }
   ],
   "source": [
    "#Training Quadratic Regression on training set\n",
    "from sklearn.linear_model import LinearRegression, Lasso\n",
    "linear=LinearRegression()\n",
    "linear.fit(X_train_trf, y_train)\n",
    "y_predlinear = linear.predict(X_test_trf)\n",
    "\n",
    "#Finding MSE of prediction with training target\n",
    "err = mean_squared_error(y_predlinear, y_test)\n",
    "err"
   ]
  },
  {
   "cell_type": "code",
   "execution_count": 10,
   "id": "84d948bd",
   "metadata": {
    "execution": {
     "iopub.execute_input": "2023-06-23T17:06:58.823426Z",
     "iopub.status.busy": "2023-06-23T17:06:58.822346Z",
     "iopub.status.idle": "2023-06-23T17:07:01.973086Z",
     "shell.execute_reply": "2023-06-23T17:07:01.972247Z"
    },
    "papermill": {
     "duration": 3.171689,
     "end_time": "2023-06-23T17:07:01.975480",
     "exception": false,
     "start_time": "2023-06-23T17:06:58.803791",
     "status": "completed"
    },
    "tags": []
   },
   "outputs": [
    {
     "name": "stderr",
     "output_type": "stream",
     "text": [
      "/opt/conda/lib/python3.10/site-packages/sklearn/linear_model/_coordinate_descent.py:631: ConvergenceWarning: Objective did not converge. You might want to increase the number of iterations, check the scale of the features or consider increasing regularisation. Duality gap: 4.316e+03, tolerance: 2.103e+00\n",
      "  model = cd_fast.enet_coordinate_descent(\n",
      "/opt/conda/lib/python3.10/site-packages/sklearn/linear_model/_coordinate_descent.py:631: ConvergenceWarning: Objective did not converge. You might want to increase the number of iterations, check the scale of the features or consider increasing regularisation. Duality gap: 4.212e+03, tolerance: 2.051e+00\n",
      "  model = cd_fast.enet_coordinate_descent(\n",
      "/opt/conda/lib/python3.10/site-packages/sklearn/linear_model/_coordinate_descent.py:631: ConvergenceWarning: Objective did not converge. You might want to increase the number of iterations, check the scale of the features or consider increasing regularisation. Duality gap: 4.286e+03, tolerance: 2.035e+00\n",
      "  model = cd_fast.enet_coordinate_descent(\n",
      "/opt/conda/lib/python3.10/site-packages/sklearn/linear_model/_coordinate_descent.py:631: ConvergenceWarning: Objective did not converge. You might want to increase the number of iterations, check the scale of the features or consider increasing regularisation. Duality gap: 4.497e+03, tolerance: 2.055e+00\n",
      "  model = cd_fast.enet_coordinate_descent(\n",
      "/opt/conda/lib/python3.10/site-packages/sklearn/linear_model/_coordinate_descent.py:631: ConvergenceWarning: Objective did not converge. You might want to increase the number of iterations, check the scale of the features or consider increasing regularisation. Duality gap: 4.192e+03, tolerance: 1.975e+00\n",
      "  model = cd_fast.enet_coordinate_descent(\n",
      "/opt/conda/lib/python3.10/site-packages/sklearn/linear_model/_coordinate_descent.py:631: ConvergenceWarning: Objective did not converge. You might want to increase the number of iterations, check the scale of the features or consider increasing regularisation. Duality gap: 4.316e+03, tolerance: 2.103e+00\n",
      "  model = cd_fast.enet_coordinate_descent(\n",
      "/opt/conda/lib/python3.10/site-packages/sklearn/linear_model/_coordinate_descent.py:631: ConvergenceWarning: Objective did not converge. You might want to increase the number of iterations, check the scale of the features or consider increasing regularisation. Duality gap: 4.212e+03, tolerance: 2.051e+00\n",
      "  model = cd_fast.enet_coordinate_descent(\n",
      "/opt/conda/lib/python3.10/site-packages/sklearn/linear_model/_coordinate_descent.py:631: ConvergenceWarning: Objective did not converge. You might want to increase the number of iterations, check the scale of the features or consider increasing regularisation. Duality gap: 4.286e+03, tolerance: 2.035e+00\n",
      "  model = cd_fast.enet_coordinate_descent(\n",
      "/opt/conda/lib/python3.10/site-packages/sklearn/linear_model/_coordinate_descent.py:631: ConvergenceWarning: Objective did not converge. You might want to increase the number of iterations, check the scale of the features or consider increasing regularisation. Duality gap: 4.497e+03, tolerance: 2.055e+00\n",
      "  model = cd_fast.enet_coordinate_descent(\n",
      "/opt/conda/lib/python3.10/site-packages/sklearn/linear_model/_coordinate_descent.py:631: ConvergenceWarning: Objective did not converge. You might want to increase the number of iterations, check the scale of the features or consider increasing regularisation. Duality gap: 4.192e+03, tolerance: 1.975e+00\n",
      "  model = cd_fast.enet_coordinate_descent(\n",
      "/opt/conda/lib/python3.10/site-packages/sklearn/linear_model/_coordinate_descent.py:631: ConvergenceWarning: Objective did not converge. You might want to increase the number of iterations, check the scale of the features or consider increasing regularisation. Duality gap: 4.316e+03, tolerance: 2.103e+00\n",
      "  model = cd_fast.enet_coordinate_descent(\n",
      "/opt/conda/lib/python3.10/site-packages/sklearn/linear_model/_coordinate_descent.py:631: ConvergenceWarning: Objective did not converge. You might want to increase the number of iterations, check the scale of the features or consider increasing regularisation. Duality gap: 4.212e+03, tolerance: 2.051e+00\n",
      "  model = cd_fast.enet_coordinate_descent(\n",
      "/opt/conda/lib/python3.10/site-packages/sklearn/linear_model/_coordinate_descent.py:631: ConvergenceWarning: Objective did not converge. You might want to increase the number of iterations, check the scale of the features or consider increasing regularisation. Duality gap: 4.286e+03, tolerance: 2.035e+00\n",
      "  model = cd_fast.enet_coordinate_descent(\n",
      "/opt/conda/lib/python3.10/site-packages/sklearn/linear_model/_coordinate_descent.py:631: ConvergenceWarning: Objective did not converge. You might want to increase the number of iterations, check the scale of the features or consider increasing regularisation. Duality gap: 4.497e+03, tolerance: 2.055e+00\n",
      "  model = cd_fast.enet_coordinate_descent(\n",
      "/opt/conda/lib/python3.10/site-packages/sklearn/linear_model/_coordinate_descent.py:631: ConvergenceWarning: Objective did not converge. You might want to increase the number of iterations, check the scale of the features or consider increasing regularisation. Duality gap: 4.192e+03, tolerance: 1.975e+00\n",
      "  model = cd_fast.enet_coordinate_descent(\n",
      "/opt/conda/lib/python3.10/site-packages/sklearn/linear_model/_coordinate_descent.py:631: ConvergenceWarning: Objective did not converge. You might want to increase the number of iterations, check the scale of the features or consider increasing regularisation. Duality gap: 1.648e+03, tolerance: 2.103e+00\n",
      "  model = cd_fast.enet_coordinate_descent(\n",
      "/opt/conda/lib/python3.10/site-packages/sklearn/linear_model/_coordinate_descent.py:631: ConvergenceWarning: Objective did not converge. You might want to increase the number of iterations, check the scale of the features or consider increasing regularisation. Duality gap: 2.306e+03, tolerance: 2.051e+00\n",
      "  model = cd_fast.enet_coordinate_descent(\n",
      "/opt/conda/lib/python3.10/site-packages/sklearn/linear_model/_coordinate_descent.py:631: ConvergenceWarning: Objective did not converge. You might want to increase the number of iterations, check the scale of the features or consider increasing regularisation. Duality gap: 1.715e+03, tolerance: 2.035e+00\n",
      "  model = cd_fast.enet_coordinate_descent(\n",
      "/opt/conda/lib/python3.10/site-packages/sklearn/linear_model/_coordinate_descent.py:631: ConvergenceWarning: Objective did not converge. You might want to increase the number of iterations, check the scale of the features or consider increasing regularisation. Duality gap: 1.695e+03, tolerance: 2.055e+00\n",
      "  model = cd_fast.enet_coordinate_descent(\n",
      "/opt/conda/lib/python3.10/site-packages/sklearn/linear_model/_coordinate_descent.py:631: ConvergenceWarning: Objective did not converge. You might want to increase the number of iterations, check the scale of the features or consider increasing regularisation. Duality gap: 1.467e+03, tolerance: 1.975e+00\n",
      "  model = cd_fast.enet_coordinate_descent(\n",
      "/opt/conda/lib/python3.10/site-packages/sklearn/linear_model/_coordinate_descent.py:631: ConvergenceWarning: Objective did not converge. You might want to increase the number of iterations, check the scale of the features or consider increasing regularisation. Duality gap: 8.088e+00, tolerance: 2.103e+00\n",
      "  model = cd_fast.enet_coordinate_descent(\n",
      "/opt/conda/lib/python3.10/site-packages/sklearn/linear_model/_coordinate_descent.py:631: ConvergenceWarning: Objective did not converge. You might want to increase the number of iterations, check the scale of the features or consider increasing regularisation. Duality gap: 6.594e+00, tolerance: 2.051e+00\n",
      "  model = cd_fast.enet_coordinate_descent(\n",
      "/opt/conda/lib/python3.10/site-packages/sklearn/linear_model/_coordinate_descent.py:631: ConvergenceWarning: Objective did not converge. You might want to increase the number of iterations, check the scale of the features or consider increasing regularisation. Duality gap: 3.368e+00, tolerance: 2.035e+00\n",
      "  model = cd_fast.enet_coordinate_descent(\n",
      "/opt/conda/lib/python3.10/site-packages/sklearn/linear_model/_coordinate_descent.py:631: ConvergenceWarning: Objective did not converge. You might want to increase the number of iterations, check the scale of the features or consider increasing regularisation. Duality gap: 3.917e+00, tolerance: 1.975e+00\n",
      "  model = cd_fast.enet_coordinate_descent(\n"
     ]
    },
    {
     "name": "stdout",
     "output_type": "stream",
     "text": [
      "{'alpha': 0.001}\n"
     ]
    },
    {
     "name": "stderr",
     "output_type": "stream",
     "text": [
      "/opt/conda/lib/python3.10/site-packages/sklearn/linear_model/_coordinate_descent.py:631: ConvergenceWarning: Objective did not converge. You might want to increase the number of iterations, check the scale of the features or consider increasing regularisation. Duality gap: 2.611e+03, tolerance: 2.555e+00\n",
      "  model = cd_fast.enet_coordinate_descent(\n"
     ]
    }
   ],
   "source": [
    "#Tuning Hyper-parameter using GridSearchCV to find optimal alpha value for Lasso Regression\n",
    "from sklearn.model_selection import GridSearchCV\n",
    "lasso=Lasso()\n",
    "parameters={'alpha':[1e-15,1e-10,1e-8,1e-3,1e-2,1,5,10,20,30,35,40,45,50,55,100]}\n",
    "lasso_regressor = GridSearchCV(lasso,parameters,scoring='neg_mean_squared_error',cv=5)\n",
    "lasso_regressor.fit(X_train_trf,y_train)\n",
    "\n",
    "#Printing optimal alpha\n",
    "print(lasso_regressor.best_params_)"
   ]
  },
  {
   "cell_type": "code",
   "execution_count": 11,
   "id": "7e6ad69c",
   "metadata": {
    "execution": {
     "iopub.execute_input": "2023-06-23T17:07:01.999642Z",
     "iopub.status.busy": "2023-06-23T17:07:01.998733Z",
     "iopub.status.idle": "2023-06-23T17:07:02.076629Z",
     "shell.execute_reply": "2023-06-23T17:07:02.075434Z"
    },
    "papermill": {
     "duration": 0.092918,
     "end_time": "2023-06-23T17:07:02.079730",
     "exception": false,
     "start_time": "2023-06-23T17:07:01.986812",
     "status": "completed"
    },
    "tags": []
   },
   "outputs": [
    {
     "name": "stderr",
     "output_type": "stream",
     "text": [
      "/opt/conda/lib/python3.10/site-packages/sklearn/linear_model/_coordinate_descent.py:631: ConvergenceWarning: Objective did not converge. You might want to increase the number of iterations, check the scale of the features or consider increasing regularisation. Duality gap: 2.611e+03, tolerance: 2.555e+00\n",
      "  model = cd_fast.enet_coordinate_descent(\n"
     ]
    },
    {
     "data": {
      "text/plain": [
       "4.790972742103316"
      ]
     },
     "execution_count": 11,
     "metadata": {},
     "output_type": "execute_result"
    }
   ],
   "source": [
    "#Training Model using Lasso regression with optimal hyper-parameter found above.\n",
    "lasso=Lasso(alpha=0.001)\n",
    "lasso.fit(X_train_trf, y_train)\n",
    "y_predlasso = lasso.predict(X_test_trf)\n",
    "\n",
    "#Finding MSE of prediction with training target\n",
    "err = mean_squared_error(y_predlasso, y_test)\n",
    "err"
   ]
  },
  {
   "cell_type": "code",
   "execution_count": 12,
   "id": "ff873fed",
   "metadata": {
    "execution": {
     "iopub.execute_input": "2023-06-23T17:07:02.120422Z",
     "iopub.status.busy": "2023-06-23T17:07:02.119275Z",
     "iopub.status.idle": "2023-06-23T17:07:12.887666Z",
     "shell.execute_reply": "2023-06-23T17:07:12.886694Z"
    },
    "papermill": {
     "duration": 10.797095,
     "end_time": "2023-06-23T17:07:12.889688",
     "exception": false,
     "start_time": "2023-06-23T17:07:02.092593",
     "status": "completed"
    },
    "tags": []
   },
   "outputs": [
    {
     "data": {
      "text/html": [
       "<div>\n",
       "<style scoped>\n",
       "    .dataframe tbody tr th:only-of-type {\n",
       "        vertical-align: middle;\n",
       "    }\n",
       "\n",
       "    .dataframe tbody tr th {\n",
       "        vertical-align: top;\n",
       "    }\n",
       "\n",
       "    .dataframe thead th {\n",
       "        text-align: right;\n",
       "    }\n",
       "</style>\n",
       "<table border=\"1\" class=\"dataframe\">\n",
       "  <thead>\n",
       "    <tr style=\"text-align: right;\">\n",
       "      <th></th>\n",
       "      <th>c</th>\n",
       "      <th>epsilon</th>\n",
       "      <th>correlation</th>\n",
       "    </tr>\n",
       "  </thead>\n",
       "  <tbody>\n",
       "    <tr>\n",
       "      <th>18</th>\n",
       "      <td>100.0</td>\n",
       "      <td>1.0000</td>\n",
       "      <td>0.767939</td>\n",
       "    </tr>\n",
       "    <tr>\n",
       "      <th>12</th>\n",
       "      <td>10.0</td>\n",
       "      <td>1.0000</td>\n",
       "      <td>0.767479</td>\n",
       "    </tr>\n",
       "    <tr>\n",
       "      <th>16</th>\n",
       "      <td>10.0</td>\n",
       "      <td>0.0001</td>\n",
       "      <td>0.767213</td>\n",
       "    </tr>\n",
       "  </tbody>\n",
       "</table>\n",
       "</div>"
      ],
      "text/plain": [
       "        c  epsilon  correlation\n",
       "18  100.0   1.0000     0.767939\n",
       "12   10.0   1.0000     0.767479\n",
       "16   10.0   0.0001     0.767213"
      ]
     },
     "execution_count": 12,
     "metadata": {},
     "output_type": "execute_result"
    }
   ],
   "source": [
    "##Lets try SVR to see if we get lower MSE on the available data points\n",
    "# Defining Parameters for hyper-tuning\n",
    "from sklearn.svm import SVR\n",
    "C_arr = [0.1,1,10,100,1000]\n",
    "eps_arr = [1,0.1,0.01,0.001,0.0001,0.00001]\n",
    "\n",
    "##Hyper-tuning the parameters\n",
    "param_arr = []\n",
    "param_cols =  ['c','epsilon','correlation']\n",
    "for C in C_arr:\n",
    "    for epsilon in eps_arr:\n",
    "        model = SVR(kernel='rbf', C=C, epsilon=epsilon)\n",
    "        svr = model.fit(X_train, y_train)\n",
    "        y_pred = model.predict(X_test)\n",
    "        corr = stats.pearsonr(y_test,y_pred)[0]\n",
    "        param_arr.append([C,epsilon,corr])\n",
    "\n",
    "#Making and printing correlation vs hyper parameters in descending order\n",
    "param_df = pd.DataFrame(param_arr,columns= param_cols)\n",
    "param_df = param_df.sort_values(by=['correlation'], ascending=False)\n",
    "param_df.head(3)"
   ]
  },
  {
   "cell_type": "code",
   "execution_count": 13,
   "id": "ac6cb51d",
   "metadata": {
    "execution": {
     "iopub.execute_input": "2023-06-23T17:07:12.909785Z",
     "iopub.status.busy": "2023-06-23T17:07:12.909389Z",
     "iopub.status.idle": "2023-06-23T17:07:13.128109Z",
     "shell.execute_reply": "2023-06-23T17:07:13.127044Z"
    },
    "papermill": {
     "duration": 0.232291,
     "end_time": "2023-06-23T17:07:13.130517",
     "exception": false,
     "start_time": "2023-06-23T17:07:12.898226",
     "status": "completed"
    },
    "tags": []
   },
   "outputs": [
    {
     "data": {
      "text/plain": [
       "4.733898622574315"
      ]
     },
     "execution_count": 13,
     "metadata": {},
     "output_type": "execute_result"
    }
   ],
   "source": [
    "#Training SVR based on highest correlation parameters\n",
    "\n",
    "model_svr = SVR(kernel='rbf', C=param_df.iloc[0,0], epsilon=param_df.iloc[0,1])\n",
    "svr = model_svr.fit(X_train, y_train)\n",
    "y_predsvr = model_svr.predict(X_test)\n",
    "\n",
    "#Finding MSE of prediction with training target\n",
    "err = mean_squared_error(y_predsvr, y_test)\n",
    "err"
   ]
  },
  {
   "cell_type": "markdown",
   "id": "51764ac0",
   "metadata": {
    "papermill": {
     "duration": 0.008568,
     "end_time": "2023-06-23T17:07:13.147785",
     "exception": false,
     "start_time": "2023-06-23T17:07:13.139217",
     "status": "completed"
    },
    "tags": []
   },
   "source": [
    "**GENERATING TEST DATA TARGET VALUES**"
   ]
  },
  {
   "cell_type": "code",
   "execution_count": 14,
   "id": "6c0cbf25",
   "metadata": {
    "execution": {
     "iopub.execute_input": "2023-06-23T17:07:13.167079Z",
     "iopub.status.busy": "2023-06-23T17:07:13.166697Z",
     "iopub.status.idle": "2023-06-23T17:07:13.188367Z",
     "shell.execute_reply": "2023-06-23T17:07:13.186804Z"
    },
    "papermill": {
     "duration": 0.033956,
     "end_time": "2023-06-23T17:07:13.190660",
     "exception": false,
     "start_time": "2023-06-23T17:07:13.156704",
     "status": "completed"
    },
    "tags": []
   },
   "outputs": [],
   "source": [
    "#Reading test data to generate test target\n",
    "test_df = pd.read_csv(\"/kaggle/input/practice-hackathon/Test.csv\")"
   ]
  },
  {
   "cell_type": "code",
   "execution_count": 15,
   "id": "0da21e9c",
   "metadata": {
    "execution": {
     "iopub.execute_input": "2023-06-23T17:07:13.210001Z",
     "iopub.status.busy": "2023-06-23T17:07:13.209604Z",
     "iopub.status.idle": "2023-06-23T17:07:13.214733Z",
     "shell.execute_reply": "2023-06-23T17:07:13.213739Z"
    },
    "papermill": {
     "duration": 0.017643,
     "end_time": "2023-06-23T17:07:13.217064",
     "exception": false,
     "start_time": "2023-06-23T17:07:13.199421",
     "status": "completed"
    },
    "tags": []
   },
   "outputs": [],
   "source": [
    "#encoding first column of data as before\n",
    "test_df['A']= label_encoder.fit_transform(test_df['A'])"
   ]
  },
  {
   "cell_type": "code",
   "execution_count": 16,
   "id": "0d97a1a3",
   "metadata": {
    "execution": {
     "iopub.execute_input": "2023-06-23T17:07:13.236489Z",
     "iopub.status.busy": "2023-06-23T17:07:13.235619Z",
     "iopub.status.idle": "2023-06-23T17:07:13.242194Z",
     "shell.execute_reply": "2023-06-23T17:07:13.240758Z"
    },
    "papermill": {
     "duration": 0.018711,
     "end_time": "2023-06-23T17:07:13.244631",
     "exception": false,
     "start_time": "2023-06-23T17:07:13.225920",
     "status": "completed"
    },
    "tags": []
   },
   "outputs": [],
   "source": [
    "#Saving Index column from the data frame for future use and dropping it now in place in the df\n",
    "Index=test_df['Index']\n",
    "test_df.drop(['Index'],axis=1,inplace=True)"
   ]
  },
  {
   "cell_type": "code",
   "execution_count": 17,
   "id": "0502d90c",
   "metadata": {
    "execution": {
     "iopub.execute_input": "2023-06-23T17:07:13.263995Z",
     "iopub.status.busy": "2023-06-23T17:07:13.263397Z",
     "iopub.status.idle": "2023-06-23T17:07:13.273239Z",
     "shell.execute_reply": "2023-06-23T17:07:13.271576Z"
    },
    "papermill": {
     "duration": 0.02223,
     "end_time": "2023-06-23T17:07:13.275785",
     "exception": false,
     "start_time": "2023-06-23T17:07:13.253555",
     "status": "completed"
    },
    "tags": []
   },
   "outputs": [],
   "source": [
    "#Transforming test df for polynomial regression\n",
    "test_df_trf = polynomial_features.fit_transform(test_df)"
   ]
  },
  {
   "cell_type": "code",
   "execution_count": 18,
   "id": "6513f7bb",
   "metadata": {
    "execution": {
     "iopub.execute_input": "2023-06-23T17:07:13.295682Z",
     "iopub.status.busy": "2023-06-23T17:07:13.295087Z",
     "iopub.status.idle": "2023-06-23T17:07:13.390147Z",
     "shell.execute_reply": "2023-06-23T17:07:13.389339Z"
    },
    "papermill": {
     "duration": 0.107862,
     "end_time": "2023-06-23T17:07:13.392676",
     "exception": false,
     "start_time": "2023-06-23T17:07:13.284814",
     "status": "completed"
    },
    "tags": []
   },
   "outputs": [],
   "source": [
    "#Generating predictions of different models\n",
    "y_test_predlinear = linear.predict(test_df_trf)\n",
    "y_test_predlasso = lasso.predict(test_df_trf)\n",
    "y_test_predsvr = svr.predict(test_df)"
   ]
  },
  {
   "cell_type": "code",
   "execution_count": 19,
   "id": "3682f1ed",
   "metadata": {
    "execution": {
     "iopub.execute_input": "2023-06-23T17:07:13.418807Z",
     "iopub.status.busy": "2023-06-23T17:07:13.418402Z",
     "iopub.status.idle": "2023-06-23T17:07:13.425077Z",
     "shell.execute_reply": "2023-06-23T17:07:13.424207Z"
    },
    "papermill": {
     "duration": 0.022583,
     "end_time": "2023-06-23T17:07:13.427068",
     "exception": false,
     "start_time": "2023-06-23T17:07:13.404485",
     "status": "completed"
    },
    "tags": []
   },
   "outputs": [],
   "source": [
    "#Creating dataframe for the desired model's test set predicition\n",
    "result = pd.DataFrame(Index, columns = ['Index'])\n",
    "result['Target']= y_test_predlasso"
   ]
  },
  {
   "cell_type": "code",
   "execution_count": 20,
   "id": "242edddc",
   "metadata": {
    "execution": {
     "iopub.execute_input": "2023-06-23T17:07:13.446521Z",
     "iopub.status.busy": "2023-06-23T17:07:13.445331Z",
     "iopub.status.idle": "2023-06-23T17:07:13.455360Z",
     "shell.execute_reply": "2023-06-23T17:07:13.453921Z"
    },
    "papermill": {
     "duration": 0.022647,
     "end_time": "2023-06-23T17:07:13.458408",
     "exception": false,
     "start_time": "2023-06-23T17:07:13.435761",
     "status": "completed"
    },
    "tags": []
   },
   "outputs": [
    {
     "data": {
      "text/html": [
       "<div>\n",
       "<style scoped>\n",
       "    .dataframe tbody tr th:only-of-type {\n",
       "        vertical-align: middle;\n",
       "    }\n",
       "\n",
       "    .dataframe tbody tr th {\n",
       "        vertical-align: top;\n",
       "    }\n",
       "\n",
       "    .dataframe thead th {\n",
       "        text-align: right;\n",
       "    }\n",
       "</style>\n",
       "<table border=\"1\" class=\"dataframe\">\n",
       "  <thead>\n",
       "    <tr style=\"text-align: right;\">\n",
       "      <th></th>\n",
       "      <th>Index</th>\n",
       "      <th>Target</th>\n",
       "    </tr>\n",
       "  </thead>\n",
       "  <tbody>\n",
       "    <tr>\n",
       "      <th>0</th>\n",
       "      <td>866</td>\n",
       "      <td>12.103331</td>\n",
       "    </tr>\n",
       "    <tr>\n",
       "      <th>1</th>\n",
       "      <td>1483</td>\n",
       "      <td>10.098904</td>\n",
       "    </tr>\n",
       "    <tr>\n",
       "      <th>2</th>\n",
       "      <td>599</td>\n",
       "      <td>14.907267</td>\n",
       "    </tr>\n",
       "    <tr>\n",
       "      <th>3</th>\n",
       "      <td>1702</td>\n",
       "      <td>11.849760</td>\n",
       "    </tr>\n",
       "    <tr>\n",
       "      <th>4</th>\n",
       "      <td>670</td>\n",
       "      <td>11.678162</td>\n",
       "    </tr>\n",
       "  </tbody>\n",
       "</table>\n",
       "</div>"
      ],
      "text/plain": [
       "   Index     Target\n",
       "0    866  12.103331\n",
       "1   1483  10.098904\n",
       "2    599  14.907267\n",
       "3   1702  11.849760\n",
       "4    670  11.678162"
      ]
     },
     "execution_count": 20,
     "metadata": {},
     "output_type": "execute_result"
    }
   ],
   "source": [
    "#Created dataframe\n",
    "result.head()"
   ]
  },
  {
   "cell_type": "markdown",
   "id": "7a0a2799",
   "metadata": {
    "papermill": {
     "duration": 0.009482,
     "end_time": "2023-06-23T17:07:13.477831",
     "exception": false,
     "start_time": "2023-06-23T17:07:13.468349",
     "status": "completed"
    },
    "tags": []
   },
   "source": [
    "**GENERATING TEST DATA TARGET DATAFRAME CSV FILE**"
   ]
  },
  {
   "cell_type": "code",
   "execution_count": 21,
   "id": "3ea6ed1f",
   "metadata": {
    "execution": {
     "iopub.execute_input": "2023-06-23T17:07:13.497829Z",
     "iopub.status.busy": "2023-06-23T17:07:13.497240Z",
     "iopub.status.idle": "2023-06-23T17:07:13.508980Z",
     "shell.execute_reply": "2023-06-23T17:07:13.508171Z"
    },
    "papermill": {
     "duration": 0.024747,
     "end_time": "2023-06-23T17:07:13.511309",
     "exception": false,
     "start_time": "2023-06-23T17:07:13.486562",
     "status": "completed"
    },
    "tags": []
   },
   "outputs": [],
   "source": [
    "#Exporting test predicition df to a csv file\n",
    "result.to_csv(\"submission_lasso.csv\", index=False)"
   ]
  }
 ],
 "metadata": {
  "kernelspec": {
   "display_name": "Python 3",
   "language": "python",
   "name": "python3"
  },
  "language_info": {
   "codemirror_mode": {
    "name": "ipython",
    "version": 3
   },
   "file_extension": ".py",
   "mimetype": "text/x-python",
   "name": "python",
   "nbconvert_exporter": "python",
   "pygments_lexer": "ipython3",
   "version": "3.10.10"
  },
  "papermill": {
   "default_parameters": {},
   "duration": 29.670471,
   "end_time": "2023-06-23T17:07:14.543117",
   "environment_variables": {},
   "exception": null,
   "input_path": "__notebook__.ipynb",
   "output_path": "__notebook__.ipynb",
   "parameters": {},
   "start_time": "2023-06-23T17:06:44.872646",
   "version": "2.4.0"
  }
 },
 "nbformat": 4,
 "nbformat_minor": 5
}
